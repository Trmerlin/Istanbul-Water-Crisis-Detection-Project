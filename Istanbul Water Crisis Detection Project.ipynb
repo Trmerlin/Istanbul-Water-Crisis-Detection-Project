{
 "cells": [
  {
   "cell_type": "markdown",
   "metadata": {},
   "source": [
    "# **Istanbul Water Crisis Detection Project**\n",
    "--------"
   ]
  },
  {
   "cell_type": "markdown",
   "metadata": {},
   "source": [
    "## **A. Introduction**"
   ]
  },
  {
   "cell_type": "markdown",
   "metadata": {},
   "source": [
    "#### **A.1. Description & Disscusion of the Background**\n",
    "\n",
    "Istanbul formerly Byzantium and Constantinople, is the largest city in Turkey and the country's economic, cultural and historic center. The city straddles the Bosporus strait, and lies in both Europe and Asia, with a population of over 15 million residents. Istanbul is the largest city in Europe, and the world's fifteenth-largest city. [For Detailed Information](https://en.wikipedia.org/wiki/Istanbul)\n",
    "\n",
    "However, the water problem has always been a problem for Istanbul since the middle ages. Since the Byzantine period, the city's rapid growth has consumed its water resources, and the city's rulers built water channels to carry the surrounding waters to the city.[For Detailed Information](https://www.middleeasteye.net/news/turkey-drought-Dams-low-water-level-rain-agriculture)\n",
    "\n",
    "In 2020, decreasing rainfall and global warming brought the city's water stocks back to 21.66%. In this study, I will first create the fresh water resources of the city according to the information on the official website and check their coordinates with the Foursquare Api. [For Detailed Information](https://data.ibb.gov.tr/en/)\n",
    "\n",
    "Then, I will calculate the water balance required for the city not to have water crisis, and the day when the city will be drought, with the multilayer perceptron, which is a neural network."
   ]
  },
  {
   "cell_type": "markdown",
   "metadata": {},
   "source": [
    "#### **A.2. Data Description**\n",
    "\n",
    "To consider the problem we can list the datas as belows\n",
    "\n",
    "* I will get the clean water resources information of the city from the official website of Istanbul, [Official Website](https://www.iski.istanbul)\n",
    "* However, only the names and occupancy rates of water resources can be seen on this site. Therefore, I will manually determine the coordinates of the relevant water resources on \"Google Maps\" and check them with foursquare.\n",
    "* I used **Forsquare API** to check if the coordinates of the Dams are correct.\n",
    "* I received meteorological data such as the city's water consumption and rainfall from the open data portal of the metropolitan municipality. [Istanbul Municipality Open Data Portal](https://data.ibb.gov.tr/en)\n"
   ]
  },
  {
   "cell_type": "markdown",
   "metadata": {},
   "source": [
    "## **B. Methodology**\n",
    "----"
   ]
  },
  {
   "cell_type": "markdown",
   "metadata": {},
   "source": [
    "#### **B.1. Creating data table and data pre-processing**\n",
    "\n",
    "You can access database by entering my Github account. According to Official Numbers, There Are 10 \"Dam-Lake-River\" that Provide Clean Water to Istanbul."
   ]
  },
  {
   "cell_type": "code",
   "execution_count": 504,
   "metadata": {},
   "outputs": [
    {
     "name": "stdout",
     "output_type": "stream",
     "text": [
      "10 Fresh Water Sources Found in the Database.\n"
     ]
    }
   ],
   "source": [
    "import pandas as pd \n",
    "import numpy as np\n",
    "import requests\n",
    "\n",
    "url = 'https://raw.githubusercontent.com/Trmerlin/Istanbul-Water-Crisis-Detection-Project/main/IstanbulsDams.cvs'\n",
    "df = pd.read_csv(url)\n",
    "\n",
    "print(str(len(df)) + ' Fresh Water Sources Found in the Database.')"
   ]
  },
  {
   "cell_type": "markdown",
   "metadata": {},
   "source": [
    "**Make sure we get the correct data.**"
   ]
  },
  {
   "cell_type": "code",
   "execution_count": 505,
   "metadata": {},
   "outputs": [
    {
     "data": {
      "text/html": [
       "<div>\n",
       "<style scoped>\n",
       "    .dataframe tbody tr th:only-of-type {\n",
       "        vertical-align: middle;\n",
       "    }\n",
       "\n",
       "    .dataframe tbody tr th {\n",
       "        vertical-align: top;\n",
       "    }\n",
       "\n",
       "    .dataframe thead th {\n",
       "        text-align: right;\n",
       "    }\n",
       "</style>\n",
       "<table border=\"1\" class=\"dataframe\">\n",
       "  <thead>\n",
       "    <tr style=\"text-align: right;\">\n",
       "      <th></th>\n",
       "      <th>Dam</th>\n",
       "      <th>TotalCapacity</th>\n",
       "      <th>Latitude</th>\n",
       "      <th>Longitude</th>\n",
       "    </tr>\n",
       "  </thead>\n",
       "  <tbody>\n",
       "    <tr>\n",
       "      <th>0</th>\n",
       "      <td>Omerli Dam</td>\n",
       "      <td>48.555</td>\n",
       "      <td>40.976815</td>\n",
       "      <td>29.342496</td>\n",
       "    </tr>\n",
       "    <tr>\n",
       "      <th>1</th>\n",
       "      <td>Pabucdere River</td>\n",
       "      <td>3.790</td>\n",
       "      <td>41.638278</td>\n",
       "      <td>28.064477</td>\n",
       "    </tr>\n",
       "    <tr>\n",
       "      <th>2</th>\n",
       "      <td>Sazlidere Dam</td>\n",
       "      <td>4.777</td>\n",
       "      <td>41.126020</td>\n",
       "      <td>28.689251</td>\n",
       "    </tr>\n",
       "    <tr>\n",
       "      <th>3</th>\n",
       "      <td>Buyukcekmece Dam</td>\n",
       "      <td>25.951</td>\n",
       "      <td>41.038046</td>\n",
       "      <td>28.574248</td>\n",
       "    </tr>\n",
       "    <tr>\n",
       "      <th>4</th>\n",
       "      <td>Alibeykoy Dam</td>\n",
       "      <td>10.441</td>\n",
       "      <td>41.119147</td>\n",
       "      <td>28.921652</td>\n",
       "    </tr>\n",
       "  </tbody>\n",
       "</table>\n",
       "</div>"
      ],
      "text/plain": [
       "                Dam  TotalCapacity   Latitude  Longitude\n",
       "0        Omerli Dam         48.555  40.976815  29.342496\n",
       "1   Pabucdere River          3.790  41.638278  28.064477\n",
       "2     Sazlidere Dam          4.777  41.126020  28.689251\n",
       "3  Buyukcekmece Dam         25.951  41.038046  28.574248\n",
       "4     Alibeykoy Dam         10.441  41.119147  28.921652"
      ]
     },
     "execution_count": 505,
     "metadata": {},
     "output_type": "execute_result"
    }
   ],
   "source": [
    "df.head()"
   ]
  },
  {
   "cell_type": "markdown",
   "metadata": {},
   "source": [
    "#### **B.2. Controlling Dam Coordinates with Foursquare API**"
   ]
  },
  {
   "cell_type": "markdown",
   "metadata": {},
   "source": [
    "We need to import some external libraries for mapping of the datas and we will work on Forsquare API."
   ]
  },
  {
   "cell_type": "code",
   "execution_count": 506,
   "metadata": {},
   "outputs": [
    {
     "name": "stdout",
     "output_type": "stream",
     "text": [
      "Libraries imported. ✓\n"
     ]
    }
   ],
   "source": [
    "pd.set_option('display.max_columns', None)\n",
    "pd.set_option('display.max_rows', None)\n",
    "\n",
    "import json # library to handle JSON files\n",
    "\n",
    "from pandas.io.json import json_normalize # Tranform JSON file into a pandas dataframe\n",
    "\n",
    "# Matplotlib and associated plotting modules\n",
    "import matplotlib.cm as cm\n",
    "import matplotlib.colors as colors\n",
    "\n",
    "# import k-means from clustering stage\n",
    "from sklearn.cluster import KMeans\n",
    "\n",
    "print('Libraries imported. ✓')"
   ]
  },
  {
   "cell_type": "markdown",
   "metadata": {},
   "source": [
    "#### We Will Use Folium Library To Visualize Geographic Details Of Istanbul`s Dams."
   ]
  },
  {
   "cell_type": "code",
   "execution_count": 507,
   "metadata": {},
   "outputs": [
    {
     "name": "stdout",
     "output_type": "stream",
     "text": [
      "Libraries imported. ✓\n"
     ]
    }
   ],
   "source": [
    "from geopy.geocoders import Nominatim # cOnvert an address into latitude and longitude values\n",
    "import folium # Map Rendering Library\n",
    "print('Libraries imported. ✓')"
   ]
  },
  {
   "cell_type": "markdown",
   "metadata": {},
   "source": [
    "#### Lets, Use Geopy Library To Get The Latitude And Longitude Values Of Istanbul."
   ]
  },
  {
   "cell_type": "code",
   "execution_count": 508,
   "metadata": {},
   "outputs": [
    {
     "name": "stdout",
     "output_type": "stream",
     "text": [
      "The geograpical coordinate of `Istanbul, TR` are 41.0096334, 28.9651646.\n"
     ]
    }
   ],
   "source": [
    "address = 'Istanbul, TR'\n",
    "\n",
    "geolocator = Nominatim(user_agent=\"ist_explorer\")\n",
    "location = geolocator.geocode(address)\n",
    "latitude = location.latitude\n",
    "longitude = location.longitude\n",
    "print('The geograpical coordinate of `{}` are {}, {}.'.format(address,latitude, longitude))"
   ]
  },
  {
   "cell_type": "markdown",
   "metadata": {},
   "source": [
    "#### Time to Integrate Foursquare API!"
   ]
  },
  {
   "cell_type": "code",
   "execution_count": 509,
   "metadata": {},
   "outputs": [],
   "source": [
    "CLIENT_ID = 'NWLSU1BAXKABB3OQS53RNNVPEMFKQKG4LYLTSWMASLRWAV5W' #It Will Be Destroyed When The Project Is Over.\n",
    "CLIENT_SECRET = 'OQ14UEUECXLGHV2OMLH02NRXKXQGB0OL0PI3VOGZJRHSVTLX' #It Will Be Destroyed When The Project Is Over.\n",
    "VERSION = '20180605' # Foursquare API version"
   ]
  },
  {
   "cell_type": "code",
   "execution_count": 510,
   "metadata": {},
   "outputs": [
    {
     "name": "stdout",
     "output_type": "stream",
     "text": [
      "Latitude and longitude values of `Omerli Dam` is 40.976814668624, 29.3424955365078.\n"
     ]
    }
   ],
   "source": [
    "istanbul_data = df\n",
    "\n",
    "Dam_latitude = istanbul_data.loc[0, 'Latitude'] # latitude value\n",
    "Dam_longitude = istanbul_data.loc[0, 'Longitude'] # longitude value\n",
    "\n",
    "Dam_name = istanbul_data.loc[0, 'Dam'] # neighborhood name\n",
    "\n",
    "print('Latitude and longitude values of `{}` is {}, {}.'.format(Dam_name, \n",
    "                                                               Dam_latitude, \n",
    "                                                               Dam_longitude))"
   ]
  },
  {
   "cell_type": "code",
   "execution_count": 511,
   "metadata": {},
   "outputs": [],
   "source": [
    "# function that extracts the category of the venue\n",
    "def get_category_type(row):\n",
    "    try:\n",
    "        categories_list = row['categories']\n",
    "    except:\n",
    "        categories_list = row['venue.categories']\n",
    "        \n",
    "    if len(categories_list) == 0:\n",
    "        return None\n",
    "    else:\n",
    "        return categories_list[0]['name']"
   ]
  },
  {
   "cell_type": "code",
   "execution_count": 512,
   "metadata": {},
   "outputs": [
    {
     "data": {
      "text/plain": [
       "'https://api.foursquare.com/v2/venues/explore?&client_id=NWLSU1BAXKABB3OQS53RNNVPEMFKQKG4LYLTSWMASLRWAV5W&client_secret=OQ14UEUECXLGHV2OMLH02NRXKXQGB0OL0PI3VOGZJRHSVTLX&v=20180605&ll=40.976814668624,29.3424955365078&radius=1200&limit=100'"
      ]
     },
     "execution_count": 512,
     "metadata": {},
     "output_type": "execute_result"
    }
   ],
   "source": [
    "LIMIT = 100\n",
    "radius = 1200\n",
    "url = 'https://api.foursquare.com/v2/venues/explore?&client_id={}&client_secret={}&v={}&ll={},{}&radius={}&limit={}'.format(\n",
    "    CLIENT_ID, \n",
    "    CLIENT_SECRET, \n",
    "    VERSION, \n",
    "    borough_latitude, \n",
    "    borough_longitude, \n",
    "    radius, \n",
    "    LIMIT)\n",
    "url"
   ]
  },
  {
   "cell_type": "code",
   "execution_count": 513,
   "metadata": {},
   "outputs": [],
   "source": [
    "results = requests.get(url).json()"
   ]
  },
  {
   "cell_type": "code",
   "execution_count": 514,
   "metadata": {},
   "outputs": [
    {
     "data": {
      "text/html": [
       "<div>\n",
       "<style scoped>\n",
       "    .dataframe tbody tr th:only-of-type {\n",
       "        vertical-align: middle;\n",
       "    }\n",
       "\n",
       "    .dataframe tbody tr th {\n",
       "        vertical-align: top;\n",
       "    }\n",
       "\n",
       "    .dataframe thead th {\n",
       "        text-align: right;\n",
       "    }\n",
       "</style>\n",
       "<table border=\"1\" class=\"dataframe\">\n",
       "  <thead>\n",
       "    <tr style=\"text-align: right;\">\n",
       "      <th></th>\n",
       "      <th>name</th>\n",
       "      <th>categories</th>\n",
       "      <th>lat</th>\n",
       "      <th>lng</th>\n",
       "    </tr>\n",
       "  </thead>\n",
       "  <tbody>\n",
       "    <tr>\n",
       "      <th>0</th>\n",
       "      <td>Ömerli Barajı</td>\n",
       "      <td>Lake</td>\n",
       "      <td>40.977048</td>\n",
       "      <td>29.340912</td>\n",
       "    </tr>\n",
       "    <tr>\n",
       "      <th>1</th>\n",
       "      <td>Nakkaş Parkı</td>\n",
       "      <td>Theme Park</td>\n",
       "      <td>40.977943</td>\n",
       "      <td>29.340830</td>\n",
       "    </tr>\n",
       "    <tr>\n",
       "      <th>2</th>\n",
       "      <td>Limon Kafe</td>\n",
       "      <td>Café</td>\n",
       "      <td>40.974670</td>\n",
       "      <td>29.343833</td>\n",
       "    </tr>\n",
       "    <tr>\n",
       "      <th>3</th>\n",
       "      <td>Ciftlik Evi</td>\n",
       "      <td>Café</td>\n",
       "      <td>40.973640</td>\n",
       "      <td>29.344139</td>\n",
       "    </tr>\n",
       "    <tr>\n",
       "      <th>4</th>\n",
       "      <td>Masal Köy Kılıç’ın Bahçesi</td>\n",
       "      <td>Turkish Restaurant</td>\n",
       "      <td>40.985008</td>\n",
       "      <td>29.345318</td>\n",
       "    </tr>\n",
       "  </tbody>\n",
       "</table>\n",
       "</div>"
      ],
      "text/plain": [
       "                         name          categories        lat        lng\n",
       "0               Ömerli Barajı                Lake  40.977048  29.340912\n",
       "1                Nakkaş Parkı          Theme Park  40.977943  29.340830\n",
       "2                  Limon Kafe                Café  40.974670  29.343833\n",
       "3                 Ciftlik Evi                Café  40.973640  29.344139\n",
       "4  Masal Köy Kılıç’ın Bahçesi  Turkish Restaurant  40.985008  29.345318"
      ]
     },
     "execution_count": 514,
     "metadata": {},
     "output_type": "execute_result"
    }
   ],
   "source": [
    "venues = results['response']['groups'][0]['items']\n",
    "    \n",
    "nearby_venues = json_normalize(venues) # flatten JSON\n",
    "\n",
    "# filter columns\n",
    "filtered_columns = ['venue.name', 'venue.categories', 'venue.location.lat', 'venue.location.lng']\n",
    "nearby_venues =nearby_venues.loc[:, filtered_columns]\n",
    "\n",
    "# filter the category for each row\n",
    "nearby_venues['venue.categories'] = nearby_venues.apply(get_category_type, axis=1)\n",
    "\n",
    "# clean columns\n",
    "nearby_venues.columns = [col.split(\".\")[-1] for col in nearby_venues.columns]\n",
    "\n",
    "nearby_venues.head()"
   ]
  },
  {
   "cell_type": "code",
   "execution_count": 515,
   "metadata": {},
   "outputs": [
    {
     "name": "stdout",
     "output_type": "stream",
     "text": [
      "6 venues were returned by Foursquare. ✓ \n"
     ]
    }
   ],
   "source": [
    "print('{} venues were returned by Foursquare. ✓ '.format(nearby_venues.shape[0]))"
   ]
  },
  {
   "cell_type": "markdown",
   "metadata": {},
   "source": [
    "#### **B.3. Discovering Structures Around the Dam Coordinates**"
   ]
  },
  {
   "cell_type": "markdown",
   "metadata": {},
   "source": [
    "Let's create a function to get all Dam-Lake in Istanbul"
   ]
  },
  {
   "cell_type": "code",
   "execution_count": 516,
   "metadata": {},
   "outputs": [],
   "source": [
    "def getNearbyVenues(names, latitudes, longitudes, radius=1200, LIMIT=100):\n",
    "    \n",
    "    venues_list=[]\n",
    "    for name, lat, lng in zip(names, latitudes, longitudes):\n",
    "        print(name)\n",
    "            \n",
    "        # create the API request URL\n",
    "        url = 'https://api.foursquare.com/v2/venues/explore?&client_id={}&client_secret={}&v={}&ll={},{}&radius={}&limit={}'.format(\n",
    "            CLIENT_ID, \n",
    "            CLIENT_SECRET, \n",
    "            VERSION, \n",
    "            lat, \n",
    "            lng, \n",
    "            radius, \n",
    "            LIMIT)\n",
    "            \n",
    "        # make the GET request\n",
    "        results = requests.get(url).json()[\"response\"]['groups'][0]['items']\n",
    "        \n",
    "        # return only relevant information for each nearby venue\n",
    "        venues_list.append([(\n",
    "            name, \n",
    "            lat, \n",
    "            lng, \n",
    "            v['venue']['name'], \n",
    "            v['venue']['location']['lat'], \n",
    "            v['venue']['location']['lng'],  \n",
    "            v['venue']['categories'][0]['name']) for v in results])\n",
    "\n",
    "    nearby_venues = pd.DataFrame([item for venue_list in venues_list for item in venue_list])\n",
    "    nearby_venues.columns = ['Dam', \n",
    "                  'Dam Latitude', \n",
    "                  'Dam Longitude', \n",
    "                  'Venue', \n",
    "                  'Venue Latitude', \n",
    "                  'Venue Longitude', \n",
    "                  'Venue Category']\n",
    "    \n",
    "    return(nearby_venues)"
   ]
  },
  {
   "cell_type": "markdown",
   "metadata": {},
   "source": [
    "#### Now we can run the above function on each Dam and create a new dataframe called **around_dams**"
   ]
  },
  {
   "cell_type": "code",
   "execution_count": 517,
   "metadata": {},
   "outputs": [
    {
     "name": "stdout",
     "output_type": "stream",
     "text": [
      "Omerli Dam\n",
      "Pabucdere River\n",
      "Sazlidere Dam\n",
      "Buyukcekmece Dam\n",
      "Alibeykoy Dam\n",
      "Terkos Lake\n",
      "Kazandere\n",
      "Elmali Dam\n",
      "Darlik Dam\n",
      "Istranca Lakes\n"
     ]
    }
   ],
   "source": [
    "around_dams = getNearbyVenues(names=istanbul_data['Dam'],\n",
    "                                   latitudes=istanbul_data['Latitude'],\n",
    "                                   longitudes=istanbul_data['Longitude']\n",
    "                                  )"
   ]
  },
  {
   "cell_type": "markdown",
   "metadata": {},
   "source": [
    "#### Let's check the size of the resulting dataframe"
   ]
  },
  {
   "cell_type": "code",
   "execution_count": 518,
   "metadata": {},
   "outputs": [
    {
     "name": "stdout",
     "output_type": "stream",
     "text": [
      "(72, 7)\n"
     ]
    },
    {
     "data": {
      "text/html": [
       "<div>\n",
       "<style scoped>\n",
       "    .dataframe tbody tr th:only-of-type {\n",
       "        vertical-align: middle;\n",
       "    }\n",
       "\n",
       "    .dataframe tbody tr th {\n",
       "        vertical-align: top;\n",
       "    }\n",
       "\n",
       "    .dataframe thead th {\n",
       "        text-align: right;\n",
       "    }\n",
       "</style>\n",
       "<table border=\"1\" class=\"dataframe\">\n",
       "  <thead>\n",
       "    <tr style=\"text-align: right;\">\n",
       "      <th></th>\n",
       "      <th>Dam</th>\n",
       "      <th>Dam Latitude</th>\n",
       "      <th>Dam Longitude</th>\n",
       "      <th>Venue</th>\n",
       "      <th>Venue Latitude</th>\n",
       "      <th>Venue Longitude</th>\n",
       "      <th>Venue Category</th>\n",
       "    </tr>\n",
       "  </thead>\n",
       "  <tbody>\n",
       "    <tr>\n",
       "      <th>0</th>\n",
       "      <td>Omerli Dam</td>\n",
       "      <td>40.976815</td>\n",
       "      <td>29.342496</td>\n",
       "      <td>Ömerli Barajı</td>\n",
       "      <td>40.977048</td>\n",
       "      <td>29.340912</td>\n",
       "      <td>Lake</td>\n",
       "    </tr>\n",
       "    <tr>\n",
       "      <th>1</th>\n",
       "      <td>Omerli Dam</td>\n",
       "      <td>40.976815</td>\n",
       "      <td>29.342496</td>\n",
       "      <td>Nakkaş Parkı</td>\n",
       "      <td>40.977943</td>\n",
       "      <td>29.340830</td>\n",
       "      <td>Theme Park</td>\n",
       "    </tr>\n",
       "    <tr>\n",
       "      <th>2</th>\n",
       "      <td>Omerli Dam</td>\n",
       "      <td>40.976815</td>\n",
       "      <td>29.342496</td>\n",
       "      <td>Limon Kafe</td>\n",
       "      <td>40.974670</td>\n",
       "      <td>29.343833</td>\n",
       "      <td>Café</td>\n",
       "    </tr>\n",
       "    <tr>\n",
       "      <th>3</th>\n",
       "      <td>Omerli Dam</td>\n",
       "      <td>40.976815</td>\n",
       "      <td>29.342496</td>\n",
       "      <td>Ciftlik Evi</td>\n",
       "      <td>40.973640</td>\n",
       "      <td>29.344139</td>\n",
       "      <td>Café</td>\n",
       "    </tr>\n",
       "    <tr>\n",
       "      <th>4</th>\n",
       "      <td>Omerli Dam</td>\n",
       "      <td>40.976815</td>\n",
       "      <td>29.342496</td>\n",
       "      <td>Masal Köy Kılıç’ın Bahçesi</td>\n",
       "      <td>40.985008</td>\n",
       "      <td>29.345318</td>\n",
       "      <td>Turkish Restaurant</td>\n",
       "    </tr>\n",
       "  </tbody>\n",
       "</table>\n",
       "</div>"
      ],
      "text/plain": [
       "          Dam  Dam Latitude  Dam Longitude                       Venue  \\\n",
       "0  Omerli Dam     40.976815      29.342496               Ömerli Barajı   \n",
       "1  Omerli Dam     40.976815      29.342496                Nakkaş Parkı   \n",
       "2  Omerli Dam     40.976815      29.342496                  Limon Kafe   \n",
       "3  Omerli Dam     40.976815      29.342496                 Ciftlik Evi   \n",
       "4  Omerli Dam     40.976815      29.342496  Masal Köy Kılıç’ın Bahçesi   \n",
       "\n",
       "   Venue Latitude  Venue Longitude      Venue Category  \n",
       "0       40.977048        29.340912                Lake  \n",
       "1       40.977943        29.340830          Theme Park  \n",
       "2       40.974670        29.343833                Café  \n",
       "3       40.973640        29.344139                Café  \n",
       "4       40.985008        29.345318  Turkish Restaurant  "
      ]
     },
     "execution_count": 518,
     "metadata": {},
     "output_type": "execute_result"
    }
   ],
   "source": [
    "print(around_dams.shape)\n",
    "around_dams.head()"
   ]
  },
  {
   "cell_type": "markdown",
   "metadata": {},
   "source": [
    "#### Let's check how many venues were returned for each Dam and sort them in count"
   ]
  },
  {
   "cell_type": "code",
   "execution_count": 519,
   "metadata": {},
   "outputs": [
    {
     "data": {
      "text/html": [
       "<div>\n",
       "<style scoped>\n",
       "    .dataframe tbody tr th:only-of-type {\n",
       "        vertical-align: middle;\n",
       "    }\n",
       "\n",
       "    .dataframe tbody tr th {\n",
       "        vertical-align: top;\n",
       "    }\n",
       "\n",
       "    .dataframe thead th {\n",
       "        text-align: right;\n",
       "    }\n",
       "</style>\n",
       "<table border=\"1\" class=\"dataframe\">\n",
       "  <thead>\n",
       "    <tr style=\"text-align: right;\">\n",
       "      <th></th>\n",
       "      <th>Dam</th>\n",
       "      <th>Count</th>\n",
       "    </tr>\n",
       "  </thead>\n",
       "  <tbody>\n",
       "    <tr>\n",
       "      <th>0</th>\n",
       "      <td>Buyukcekmece Dam</td>\n",
       "      <td>2</td>\n",
       "    </tr>\n",
       "    <tr>\n",
       "      <th>1</th>\n",
       "      <td>Istranca Lakes</td>\n",
       "      <td>3</td>\n",
       "    </tr>\n",
       "    <tr>\n",
       "      <th>2</th>\n",
       "      <td>Kazandere</td>\n",
       "      <td>3</td>\n",
       "    </tr>\n",
       "    <tr>\n",
       "      <th>3</th>\n",
       "      <td>Sazlidere Dam</td>\n",
       "      <td>3</td>\n",
       "    </tr>\n",
       "    <tr>\n",
       "      <th>4</th>\n",
       "      <td>Alibeykoy Dam</td>\n",
       "      <td>4</td>\n",
       "    </tr>\n",
       "  </tbody>\n",
       "</table>\n",
       "</div>"
      ],
      "text/plain": [
       "                Dam  Count\n",
       "0  Buyukcekmece Dam      2\n",
       "1    Istranca Lakes      3\n",
       "2         Kazandere      3\n",
       "3     Sazlidere Dam      3\n",
       "4     Alibeykoy Dam      4"
      ]
     },
     "execution_count": 519,
     "metadata": {},
     "output_type": "execute_result"
    }
   ],
   "source": [
    "summary = around_dams.groupby('Dam').count().reset_index()\n",
    "summary['Count'] = summary['Venue']\n",
    "summary = summary.drop(['Dam Latitude', 'Dam Longitude', 'Venue', 'Venue Latitude', 'Venue Longitude','Venue Category'], axis=1)\n",
    "summary = summary.sort_values('Count').reset_index(drop=True)\n",
    "summary.head()"
   ]
  },
  {
   "cell_type": "markdown",
   "metadata": {},
   "source": [
    "#### Let's Ask the Unique Categories."
   ]
  },
  {
   "cell_type": "code",
   "execution_count": 520,
   "metadata": {},
   "outputs": [
    {
     "name": "stdout",
     "output_type": "stream",
     "text": [
      "There are `41` uniques categories.\n"
     ]
    }
   ],
   "source": [
    "print('There are `{}` uniques categories.'.format(len(around_dams['Venue Category'].unique())))"
   ]
  },
  {
   "cell_type": "markdown",
   "metadata": {},
   "source": [
    "#### **B.3. Analyzing Each Dam**"
   ]
  },
  {
   "cell_type": "markdown",
   "metadata": {},
   "source": [
    "We will anayze each Dam with venues informations"
   ]
  },
  {
   "cell_type": "code",
   "execution_count": 521,
   "metadata": {},
   "outputs": [
    {
     "data": {
      "text/html": [
       "<div>\n",
       "<style scoped>\n",
       "    .dataframe tbody tr th:only-of-type {\n",
       "        vertical-align: middle;\n",
       "    }\n",
       "\n",
       "    .dataframe tbody tr th {\n",
       "        vertical-align: top;\n",
       "    }\n",
       "\n",
       "    .dataframe thead th {\n",
       "        text-align: right;\n",
       "    }\n",
       "</style>\n",
       "<table border=\"1\" class=\"dataframe\">\n",
       "  <thead>\n",
       "    <tr style=\"text-align: right;\">\n",
       "      <th></th>\n",
       "      <th>Dam</th>\n",
       "      <th>Arepa Restaurant</th>\n",
       "      <th>Athletics &amp; Sports</th>\n",
       "      <th>Bakery</th>\n",
       "      <th>Beach</th>\n",
       "      <th>Beer Garden</th>\n",
       "      <th>Bike Shop</th>\n",
       "      <th>Botanical Garden</th>\n",
       "      <th>Breakfast Spot</th>\n",
       "      <th>Brewery</th>\n",
       "      <th>Burrito Place</th>\n",
       "      <th>Café</th>\n",
       "      <th>Campground</th>\n",
       "      <th>Comfort Food Restaurant</th>\n",
       "      <th>Convenience Store</th>\n",
       "      <th>Department Store</th>\n",
       "      <th>Dessert Shop</th>\n",
       "      <th>Dog Run</th>\n",
       "      <th>Farm</th>\n",
       "      <th>Food Truck</th>\n",
       "      <th>Forest</th>\n",
       "      <th>Garden</th>\n",
       "      <th>Grocery Store</th>\n",
       "      <th>Hotel</th>\n",
       "      <th>Lake</th>\n",
       "      <th>Lighthouse</th>\n",
       "      <th>Meyhane</th>\n",
       "      <th>Mountain</th>\n",
       "      <th>Nature Preserve</th>\n",
       "      <th>Paintball Field</th>\n",
       "      <th>Pie Shop</th>\n",
       "      <th>Plaza</th>\n",
       "      <th>Pub</th>\n",
       "      <th>Restaurant</th>\n",
       "      <th>River</th>\n",
       "      <th>Scenic Lookout</th>\n",
       "      <th>Seafood Restaurant</th>\n",
       "      <th>Steakhouse</th>\n",
       "      <th>Tea Room</th>\n",
       "      <th>Theme Park</th>\n",
       "      <th>Turkish Restaurant</th>\n",
       "      <th>Whisky Bar</th>\n",
       "    </tr>\n",
       "  </thead>\n",
       "  <tbody>\n",
       "    <tr>\n",
       "      <th>0</th>\n",
       "      <td>Omerli Dam</td>\n",
       "      <td>0</td>\n",
       "      <td>0</td>\n",
       "      <td>0</td>\n",
       "      <td>0</td>\n",
       "      <td>0</td>\n",
       "      <td>0</td>\n",
       "      <td>0</td>\n",
       "      <td>0</td>\n",
       "      <td>0</td>\n",
       "      <td>0</td>\n",
       "      <td>0</td>\n",
       "      <td>0</td>\n",
       "      <td>0</td>\n",
       "      <td>0</td>\n",
       "      <td>0</td>\n",
       "      <td>0</td>\n",
       "      <td>0</td>\n",
       "      <td>0</td>\n",
       "      <td>0</td>\n",
       "      <td>0</td>\n",
       "      <td>0</td>\n",
       "      <td>0</td>\n",
       "      <td>0</td>\n",
       "      <td>1</td>\n",
       "      <td>0</td>\n",
       "      <td>0</td>\n",
       "      <td>0</td>\n",
       "      <td>0</td>\n",
       "      <td>0</td>\n",
       "      <td>0</td>\n",
       "      <td>0</td>\n",
       "      <td>0</td>\n",
       "      <td>0</td>\n",
       "      <td>0</td>\n",
       "      <td>0</td>\n",
       "      <td>0</td>\n",
       "      <td>0</td>\n",
       "      <td>0</td>\n",
       "      <td>0</td>\n",
       "      <td>0</td>\n",
       "      <td>0</td>\n",
       "    </tr>\n",
       "    <tr>\n",
       "      <th>1</th>\n",
       "      <td>Omerli Dam</td>\n",
       "      <td>0</td>\n",
       "      <td>0</td>\n",
       "      <td>0</td>\n",
       "      <td>0</td>\n",
       "      <td>0</td>\n",
       "      <td>0</td>\n",
       "      <td>0</td>\n",
       "      <td>0</td>\n",
       "      <td>0</td>\n",
       "      <td>0</td>\n",
       "      <td>0</td>\n",
       "      <td>0</td>\n",
       "      <td>0</td>\n",
       "      <td>0</td>\n",
       "      <td>0</td>\n",
       "      <td>0</td>\n",
       "      <td>0</td>\n",
       "      <td>0</td>\n",
       "      <td>0</td>\n",
       "      <td>0</td>\n",
       "      <td>0</td>\n",
       "      <td>0</td>\n",
       "      <td>0</td>\n",
       "      <td>0</td>\n",
       "      <td>0</td>\n",
       "      <td>0</td>\n",
       "      <td>0</td>\n",
       "      <td>0</td>\n",
       "      <td>0</td>\n",
       "      <td>0</td>\n",
       "      <td>0</td>\n",
       "      <td>0</td>\n",
       "      <td>0</td>\n",
       "      <td>0</td>\n",
       "      <td>0</td>\n",
       "      <td>0</td>\n",
       "      <td>0</td>\n",
       "      <td>0</td>\n",
       "      <td>1</td>\n",
       "      <td>0</td>\n",
       "      <td>0</td>\n",
       "    </tr>\n",
       "    <tr>\n",
       "      <th>2</th>\n",
       "      <td>Omerli Dam</td>\n",
       "      <td>0</td>\n",
       "      <td>0</td>\n",
       "      <td>0</td>\n",
       "      <td>0</td>\n",
       "      <td>0</td>\n",
       "      <td>0</td>\n",
       "      <td>0</td>\n",
       "      <td>0</td>\n",
       "      <td>0</td>\n",
       "      <td>0</td>\n",
       "      <td>1</td>\n",
       "      <td>0</td>\n",
       "      <td>0</td>\n",
       "      <td>0</td>\n",
       "      <td>0</td>\n",
       "      <td>0</td>\n",
       "      <td>0</td>\n",
       "      <td>0</td>\n",
       "      <td>0</td>\n",
       "      <td>0</td>\n",
       "      <td>0</td>\n",
       "      <td>0</td>\n",
       "      <td>0</td>\n",
       "      <td>0</td>\n",
       "      <td>0</td>\n",
       "      <td>0</td>\n",
       "      <td>0</td>\n",
       "      <td>0</td>\n",
       "      <td>0</td>\n",
       "      <td>0</td>\n",
       "      <td>0</td>\n",
       "      <td>0</td>\n",
       "      <td>0</td>\n",
       "      <td>0</td>\n",
       "      <td>0</td>\n",
       "      <td>0</td>\n",
       "      <td>0</td>\n",
       "      <td>0</td>\n",
       "      <td>0</td>\n",
       "      <td>0</td>\n",
       "      <td>0</td>\n",
       "    </tr>\n",
       "    <tr>\n",
       "      <th>3</th>\n",
       "      <td>Omerli Dam</td>\n",
       "      <td>0</td>\n",
       "      <td>0</td>\n",
       "      <td>0</td>\n",
       "      <td>0</td>\n",
       "      <td>0</td>\n",
       "      <td>0</td>\n",
       "      <td>0</td>\n",
       "      <td>0</td>\n",
       "      <td>0</td>\n",
       "      <td>0</td>\n",
       "      <td>1</td>\n",
       "      <td>0</td>\n",
       "      <td>0</td>\n",
       "      <td>0</td>\n",
       "      <td>0</td>\n",
       "      <td>0</td>\n",
       "      <td>0</td>\n",
       "      <td>0</td>\n",
       "      <td>0</td>\n",
       "      <td>0</td>\n",
       "      <td>0</td>\n",
       "      <td>0</td>\n",
       "      <td>0</td>\n",
       "      <td>0</td>\n",
       "      <td>0</td>\n",
       "      <td>0</td>\n",
       "      <td>0</td>\n",
       "      <td>0</td>\n",
       "      <td>0</td>\n",
       "      <td>0</td>\n",
       "      <td>0</td>\n",
       "      <td>0</td>\n",
       "      <td>0</td>\n",
       "      <td>0</td>\n",
       "      <td>0</td>\n",
       "      <td>0</td>\n",
       "      <td>0</td>\n",
       "      <td>0</td>\n",
       "      <td>0</td>\n",
       "      <td>0</td>\n",
       "      <td>0</td>\n",
       "    </tr>\n",
       "    <tr>\n",
       "      <th>4</th>\n",
       "      <td>Omerli Dam</td>\n",
       "      <td>0</td>\n",
       "      <td>0</td>\n",
       "      <td>0</td>\n",
       "      <td>0</td>\n",
       "      <td>0</td>\n",
       "      <td>0</td>\n",
       "      <td>0</td>\n",
       "      <td>0</td>\n",
       "      <td>0</td>\n",
       "      <td>0</td>\n",
       "      <td>0</td>\n",
       "      <td>0</td>\n",
       "      <td>0</td>\n",
       "      <td>0</td>\n",
       "      <td>0</td>\n",
       "      <td>0</td>\n",
       "      <td>0</td>\n",
       "      <td>0</td>\n",
       "      <td>0</td>\n",
       "      <td>0</td>\n",
       "      <td>0</td>\n",
       "      <td>0</td>\n",
       "      <td>0</td>\n",
       "      <td>0</td>\n",
       "      <td>0</td>\n",
       "      <td>0</td>\n",
       "      <td>0</td>\n",
       "      <td>0</td>\n",
       "      <td>0</td>\n",
       "      <td>0</td>\n",
       "      <td>0</td>\n",
       "      <td>0</td>\n",
       "      <td>0</td>\n",
       "      <td>0</td>\n",
       "      <td>0</td>\n",
       "      <td>0</td>\n",
       "      <td>0</td>\n",
       "      <td>0</td>\n",
       "      <td>0</td>\n",
       "      <td>1</td>\n",
       "      <td>0</td>\n",
       "    </tr>\n",
       "  </tbody>\n",
       "</table>\n",
       "</div>"
      ],
      "text/plain": [
       "          Dam  Arepa Restaurant  Athletics & Sports  Bakery  Beach  \\\n",
       "0  Omerli Dam                 0                   0       0      0   \n",
       "1  Omerli Dam                 0                   0       0      0   \n",
       "2  Omerli Dam                 0                   0       0      0   \n",
       "3  Omerli Dam                 0                   0       0      0   \n",
       "4  Omerli Dam                 0                   0       0      0   \n",
       "\n",
       "   Beer Garden  Bike Shop  Botanical Garden  Breakfast Spot  Brewery  \\\n",
       "0            0          0                 0               0        0   \n",
       "1            0          0                 0               0        0   \n",
       "2            0          0                 0               0        0   \n",
       "3            0          0                 0               0        0   \n",
       "4            0          0                 0               0        0   \n",
       "\n",
       "   Burrito Place  Café  Campground  Comfort Food Restaurant  \\\n",
       "0              0     0           0                        0   \n",
       "1              0     0           0                        0   \n",
       "2              0     1           0                        0   \n",
       "3              0     1           0                        0   \n",
       "4              0     0           0                        0   \n",
       "\n",
       "   Convenience Store  Department Store  Dessert Shop  Dog Run  Farm  \\\n",
       "0                  0                 0             0        0     0   \n",
       "1                  0                 0             0        0     0   \n",
       "2                  0                 0             0        0     0   \n",
       "3                  0                 0             0        0     0   \n",
       "4                  0                 0             0        0     0   \n",
       "\n",
       "   Food Truck  Forest  Garden  Grocery Store  Hotel  Lake  Lighthouse  \\\n",
       "0           0       0       0              0      0     1           0   \n",
       "1           0       0       0              0      0     0           0   \n",
       "2           0       0       0              0      0     0           0   \n",
       "3           0       0       0              0      0     0           0   \n",
       "4           0       0       0              0      0     0           0   \n",
       "\n",
       "   Meyhane  Mountain  Nature Preserve  Paintball Field  Pie Shop  Plaza  Pub  \\\n",
       "0        0         0                0                0         0      0    0   \n",
       "1        0         0                0                0         0      0    0   \n",
       "2        0         0                0                0         0      0    0   \n",
       "3        0         0                0                0         0      0    0   \n",
       "4        0         0                0                0         0      0    0   \n",
       "\n",
       "   Restaurant  River  Scenic Lookout  Seafood Restaurant  Steakhouse  \\\n",
       "0           0      0               0                   0           0   \n",
       "1           0      0               0                   0           0   \n",
       "2           0      0               0                   0           0   \n",
       "3           0      0               0                   0           0   \n",
       "4           0      0               0                   0           0   \n",
       "\n",
       "   Tea Room  Theme Park  Turkish Restaurant  Whisky Bar  \n",
       "0         0           0                   0           0  \n",
       "1         0           1                   0           0  \n",
       "2         0           0                   0           0  \n",
       "3         0           0                   0           0  \n",
       "4         0           0                   1           0  "
      ]
     },
     "execution_count": 521,
     "metadata": {},
     "output_type": "execute_result"
    }
   ],
   "source": [
    "# one hot encoding\n",
    "istanbul_onehot = pd.get_dummies(around_dams[['Venue Category']], prefix=\"\", prefix_sep=\"\")\n",
    "\n",
    "# add neighborhood column back to dataframe\n",
    "istanbul_onehot['Dam'] = around_dams['Dam'] \n",
    "\n",
    "# move neighborhood column to the first column\n",
    "list_column = istanbul_onehot.columns.tolist()\n",
    "number_column = int(list_column.index('Dam'))\n",
    "list_column = [list_column[number_column]] + list_column[:number_column] + list_column[number_column+1:] \n",
    "istanbul_onehot = istanbul_onehot[list_column]\n",
    "\n",
    "istanbul_onehot.head()"
   ]
  },
  {
   "cell_type": "markdown",
   "metadata": {},
   "source": [
    "#### Next, let's group rows by Dam and by taking the mean of the frequency of occurrence of each category"
   ]
  },
  {
   "cell_type": "code",
   "execution_count": 522,
   "metadata": {},
   "outputs": [
    {
     "data": {
      "text/html": [
       "<div>\n",
       "<style scoped>\n",
       "    .dataframe tbody tr th:only-of-type {\n",
       "        vertical-align: middle;\n",
       "    }\n",
       "\n",
       "    .dataframe tbody tr th {\n",
       "        vertical-align: top;\n",
       "    }\n",
       "\n",
       "    .dataframe thead th {\n",
       "        text-align: right;\n",
       "    }\n",
       "</style>\n",
       "<table border=\"1\" class=\"dataframe\">\n",
       "  <thead>\n",
       "    <tr style=\"text-align: right;\">\n",
       "      <th></th>\n",
       "      <th>Dam</th>\n",
       "      <th>Arepa Restaurant</th>\n",
       "      <th>Athletics &amp; Sports</th>\n",
       "      <th>Bakery</th>\n",
       "      <th>Beach</th>\n",
       "      <th>Beer Garden</th>\n",
       "      <th>Bike Shop</th>\n",
       "      <th>Botanical Garden</th>\n",
       "      <th>Breakfast Spot</th>\n",
       "      <th>Brewery</th>\n",
       "      <th>Burrito Place</th>\n",
       "      <th>Café</th>\n",
       "      <th>Campground</th>\n",
       "      <th>Comfort Food Restaurant</th>\n",
       "      <th>Convenience Store</th>\n",
       "      <th>Department Store</th>\n",
       "      <th>Dessert Shop</th>\n",
       "      <th>Dog Run</th>\n",
       "      <th>Farm</th>\n",
       "      <th>Food Truck</th>\n",
       "      <th>Forest</th>\n",
       "      <th>Garden</th>\n",
       "      <th>Grocery Store</th>\n",
       "      <th>Hotel</th>\n",
       "      <th>Lake</th>\n",
       "      <th>Lighthouse</th>\n",
       "      <th>Meyhane</th>\n",
       "      <th>Mountain</th>\n",
       "      <th>Nature Preserve</th>\n",
       "      <th>Paintball Field</th>\n",
       "      <th>Pie Shop</th>\n",
       "      <th>Plaza</th>\n",
       "      <th>Pub</th>\n",
       "      <th>Restaurant</th>\n",
       "      <th>River</th>\n",
       "      <th>Scenic Lookout</th>\n",
       "      <th>Seafood Restaurant</th>\n",
       "      <th>Steakhouse</th>\n",
       "      <th>Tea Room</th>\n",
       "      <th>Theme Park</th>\n",
       "      <th>Turkish Restaurant</th>\n",
       "      <th>Whisky Bar</th>\n",
       "    </tr>\n",
       "  </thead>\n",
       "  <tbody>\n",
       "    <tr>\n",
       "      <th>0</th>\n",
       "      <td>Alibeykoy Dam</td>\n",
       "      <td>0.0</td>\n",
       "      <td>0.0</td>\n",
       "      <td>0.0</td>\n",
       "      <td>0.0</td>\n",
       "      <td>0.0</td>\n",
       "      <td>0.000000</td>\n",
       "      <td>0.0</td>\n",
       "      <td>0.000000</td>\n",
       "      <td>0.0</td>\n",
       "      <td>0.000000</td>\n",
       "      <td>0.0</td>\n",
       "      <td>0.000000</td>\n",
       "      <td>0.0</td>\n",
       "      <td>0.000000</td>\n",
       "      <td>0.000000</td>\n",
       "      <td>0.000000</td>\n",
       "      <td>0.000000</td>\n",
       "      <td>0.0</td>\n",
       "      <td>0.000000</td>\n",
       "      <td>0.250000</td>\n",
       "      <td>0.000000</td>\n",
       "      <td>0.0</td>\n",
       "      <td>0.000000</td>\n",
       "      <td>0.250000</td>\n",
       "      <td>0.000000</td>\n",
       "      <td>0.0</td>\n",
       "      <td>0.0</td>\n",
       "      <td>0.000000</td>\n",
       "      <td>0.250000</td>\n",
       "      <td>0.0</td>\n",
       "      <td>0.000000</td>\n",
       "      <td>0.000000</td>\n",
       "      <td>0.0</td>\n",
       "      <td>0.0</td>\n",
       "      <td>0.0</td>\n",
       "      <td>0.0</td>\n",
       "      <td>0.0</td>\n",
       "      <td>0.250000</td>\n",
       "      <td>0.0</td>\n",
       "      <td>0.000000</td>\n",
       "      <td>0.000000</td>\n",
       "    </tr>\n",
       "    <tr>\n",
       "      <th>1</th>\n",
       "      <td>Buyukcekmece Dam</td>\n",
       "      <td>0.0</td>\n",
       "      <td>0.0</td>\n",
       "      <td>0.0</td>\n",
       "      <td>0.0</td>\n",
       "      <td>0.0</td>\n",
       "      <td>0.000000</td>\n",
       "      <td>0.0</td>\n",
       "      <td>0.000000</td>\n",
       "      <td>0.0</td>\n",
       "      <td>0.000000</td>\n",
       "      <td>0.0</td>\n",
       "      <td>0.000000</td>\n",
       "      <td>0.0</td>\n",
       "      <td>0.000000</td>\n",
       "      <td>0.000000</td>\n",
       "      <td>0.000000</td>\n",
       "      <td>0.000000</td>\n",
       "      <td>0.0</td>\n",
       "      <td>0.000000</td>\n",
       "      <td>0.000000</td>\n",
       "      <td>0.000000</td>\n",
       "      <td>0.0</td>\n",
       "      <td>0.000000</td>\n",
       "      <td>0.500000</td>\n",
       "      <td>0.000000</td>\n",
       "      <td>0.0</td>\n",
       "      <td>0.0</td>\n",
       "      <td>0.000000</td>\n",
       "      <td>0.000000</td>\n",
       "      <td>0.0</td>\n",
       "      <td>0.000000</td>\n",
       "      <td>0.000000</td>\n",
       "      <td>0.0</td>\n",
       "      <td>0.0</td>\n",
       "      <td>0.0</td>\n",
       "      <td>0.0</td>\n",
       "      <td>0.5</td>\n",
       "      <td>0.000000</td>\n",
       "      <td>0.0</td>\n",
       "      <td>0.000000</td>\n",
       "      <td>0.000000</td>\n",
       "    </tr>\n",
       "    <tr>\n",
       "      <th>2</th>\n",
       "      <td>Darlik Dam</td>\n",
       "      <td>0.0</td>\n",
       "      <td>0.0</td>\n",
       "      <td>0.0</td>\n",
       "      <td>0.0</td>\n",
       "      <td>0.0</td>\n",
       "      <td>0.000000</td>\n",
       "      <td>0.0</td>\n",
       "      <td>0.000000</td>\n",
       "      <td>0.0</td>\n",
       "      <td>0.000000</td>\n",
       "      <td>0.0</td>\n",
       "      <td>0.000000</td>\n",
       "      <td>0.0</td>\n",
       "      <td>0.000000</td>\n",
       "      <td>0.000000</td>\n",
       "      <td>0.166667</td>\n",
       "      <td>0.000000</td>\n",
       "      <td>0.0</td>\n",
       "      <td>0.000000</td>\n",
       "      <td>0.000000</td>\n",
       "      <td>0.000000</td>\n",
       "      <td>0.0</td>\n",
       "      <td>0.000000</td>\n",
       "      <td>0.166667</td>\n",
       "      <td>0.000000</td>\n",
       "      <td>0.0</td>\n",
       "      <td>0.0</td>\n",
       "      <td>0.166667</td>\n",
       "      <td>0.000000</td>\n",
       "      <td>0.0</td>\n",
       "      <td>0.000000</td>\n",
       "      <td>0.166667</td>\n",
       "      <td>0.0</td>\n",
       "      <td>0.0</td>\n",
       "      <td>0.0</td>\n",
       "      <td>0.0</td>\n",
       "      <td>0.0</td>\n",
       "      <td>0.000000</td>\n",
       "      <td>0.0</td>\n",
       "      <td>0.166667</td>\n",
       "      <td>0.166667</td>\n",
       "    </tr>\n",
       "    <tr>\n",
       "      <th>3</th>\n",
       "      <td>Elmali Dam</td>\n",
       "      <td>0.0</td>\n",
       "      <td>0.0</td>\n",
       "      <td>0.0</td>\n",
       "      <td>0.0</td>\n",
       "      <td>0.0</td>\n",
       "      <td>0.055556</td>\n",
       "      <td>0.0</td>\n",
       "      <td>0.055556</td>\n",
       "      <td>0.0</td>\n",
       "      <td>0.055556</td>\n",
       "      <td>0.0</td>\n",
       "      <td>0.166667</td>\n",
       "      <td>0.0</td>\n",
       "      <td>0.000000</td>\n",
       "      <td>0.111111</td>\n",
       "      <td>0.000000</td>\n",
       "      <td>0.055556</td>\n",
       "      <td>0.0</td>\n",
       "      <td>0.055556</td>\n",
       "      <td>0.111111</td>\n",
       "      <td>0.055556</td>\n",
       "      <td>0.0</td>\n",
       "      <td>0.055556</td>\n",
       "      <td>0.000000</td>\n",
       "      <td>0.055556</td>\n",
       "      <td>0.0</td>\n",
       "      <td>0.0</td>\n",
       "      <td>0.000000</td>\n",
       "      <td>0.055556</td>\n",
       "      <td>0.0</td>\n",
       "      <td>0.055556</td>\n",
       "      <td>0.000000</td>\n",
       "      <td>0.0</td>\n",
       "      <td>0.0</td>\n",
       "      <td>0.0</td>\n",
       "      <td>0.0</td>\n",
       "      <td>0.0</td>\n",
       "      <td>0.055556</td>\n",
       "      <td>0.0</td>\n",
       "      <td>0.000000</td>\n",
       "      <td>0.000000</td>\n",
       "    </tr>\n",
       "    <tr>\n",
       "      <th>4</th>\n",
       "      <td>Istranca Lakes</td>\n",
       "      <td>0.0</td>\n",
       "      <td>0.0</td>\n",
       "      <td>0.0</td>\n",
       "      <td>0.0</td>\n",
       "      <td>0.0</td>\n",
       "      <td>0.000000</td>\n",
       "      <td>0.0</td>\n",
       "      <td>0.000000</td>\n",
       "      <td>0.0</td>\n",
       "      <td>0.000000</td>\n",
       "      <td>0.0</td>\n",
       "      <td>0.333333</td>\n",
       "      <td>0.0</td>\n",
       "      <td>0.333333</td>\n",
       "      <td>0.000000</td>\n",
       "      <td>0.000000</td>\n",
       "      <td>0.000000</td>\n",
       "      <td>0.0</td>\n",
       "      <td>0.000000</td>\n",
       "      <td>0.000000</td>\n",
       "      <td>0.000000</td>\n",
       "      <td>0.0</td>\n",
       "      <td>0.000000</td>\n",
       "      <td>0.333333</td>\n",
       "      <td>0.000000</td>\n",
       "      <td>0.0</td>\n",
       "      <td>0.0</td>\n",
       "      <td>0.000000</td>\n",
       "      <td>0.000000</td>\n",
       "      <td>0.0</td>\n",
       "      <td>0.000000</td>\n",
       "      <td>0.000000</td>\n",
       "      <td>0.0</td>\n",
       "      <td>0.0</td>\n",
       "      <td>0.0</td>\n",
       "      <td>0.0</td>\n",
       "      <td>0.0</td>\n",
       "      <td>0.000000</td>\n",
       "      <td>0.0</td>\n",
       "      <td>0.000000</td>\n",
       "      <td>0.000000</td>\n",
       "    </tr>\n",
       "  </tbody>\n",
       "</table>\n",
       "</div>"
      ],
      "text/plain": [
       "                Dam  Arepa Restaurant  Athletics & Sports  Bakery  Beach  \\\n",
       "0     Alibeykoy Dam               0.0                 0.0     0.0    0.0   \n",
       "1  Buyukcekmece Dam               0.0                 0.0     0.0    0.0   \n",
       "2        Darlik Dam               0.0                 0.0     0.0    0.0   \n",
       "3        Elmali Dam               0.0                 0.0     0.0    0.0   \n",
       "4    Istranca Lakes               0.0                 0.0     0.0    0.0   \n",
       "\n",
       "   Beer Garden  Bike Shop  Botanical Garden  Breakfast Spot  Brewery  \\\n",
       "0          0.0   0.000000               0.0        0.000000      0.0   \n",
       "1          0.0   0.000000               0.0        0.000000      0.0   \n",
       "2          0.0   0.000000               0.0        0.000000      0.0   \n",
       "3          0.0   0.055556               0.0        0.055556      0.0   \n",
       "4          0.0   0.000000               0.0        0.000000      0.0   \n",
       "\n",
       "   Burrito Place  Café  Campground  Comfort Food Restaurant  \\\n",
       "0       0.000000   0.0    0.000000                      0.0   \n",
       "1       0.000000   0.0    0.000000                      0.0   \n",
       "2       0.000000   0.0    0.000000                      0.0   \n",
       "3       0.055556   0.0    0.166667                      0.0   \n",
       "4       0.000000   0.0    0.333333                      0.0   \n",
       "\n",
       "   Convenience Store  Department Store  Dessert Shop   Dog Run  Farm  \\\n",
       "0           0.000000          0.000000      0.000000  0.000000   0.0   \n",
       "1           0.000000          0.000000      0.000000  0.000000   0.0   \n",
       "2           0.000000          0.000000      0.166667  0.000000   0.0   \n",
       "3           0.000000          0.111111      0.000000  0.055556   0.0   \n",
       "4           0.333333          0.000000      0.000000  0.000000   0.0   \n",
       "\n",
       "   Food Truck    Forest    Garden  Grocery Store     Hotel      Lake  \\\n",
       "0    0.000000  0.250000  0.000000            0.0  0.000000  0.250000   \n",
       "1    0.000000  0.000000  0.000000            0.0  0.000000  0.500000   \n",
       "2    0.000000  0.000000  0.000000            0.0  0.000000  0.166667   \n",
       "3    0.055556  0.111111  0.055556            0.0  0.055556  0.000000   \n",
       "4    0.000000  0.000000  0.000000            0.0  0.000000  0.333333   \n",
       "\n",
       "   Lighthouse  Meyhane  Mountain  Nature Preserve  Paintball Field  Pie Shop  \\\n",
       "0    0.000000      0.0       0.0         0.000000         0.250000       0.0   \n",
       "1    0.000000      0.0       0.0         0.000000         0.000000       0.0   \n",
       "2    0.000000      0.0       0.0         0.166667         0.000000       0.0   \n",
       "3    0.055556      0.0       0.0         0.000000         0.055556       0.0   \n",
       "4    0.000000      0.0       0.0         0.000000         0.000000       0.0   \n",
       "\n",
       "      Plaza       Pub  Restaurant  River  Scenic Lookout  Seafood Restaurant  \\\n",
       "0  0.000000  0.000000         0.0    0.0             0.0                 0.0   \n",
       "1  0.000000  0.000000         0.0    0.0             0.0                 0.0   \n",
       "2  0.000000  0.166667         0.0    0.0             0.0                 0.0   \n",
       "3  0.055556  0.000000         0.0    0.0             0.0                 0.0   \n",
       "4  0.000000  0.000000         0.0    0.0             0.0                 0.0   \n",
       "\n",
       "   Steakhouse  Tea Room  Theme Park  Turkish Restaurant  Whisky Bar  \n",
       "0         0.0  0.250000         0.0            0.000000    0.000000  \n",
       "1         0.5  0.000000         0.0            0.000000    0.000000  \n",
       "2         0.0  0.000000         0.0            0.166667    0.166667  \n",
       "3         0.0  0.055556         0.0            0.000000    0.000000  \n",
       "4         0.0  0.000000         0.0            0.000000    0.000000  "
      ]
     },
     "execution_count": 522,
     "metadata": {},
     "output_type": "execute_result"
    }
   ],
   "source": [
    "istanbul_grouped = istanbul_onehot.groupby('Dam').mean().reset_index()\n",
    "istanbul_grouped.head()"
   ]
  },
  {
   "cell_type": "markdown",
   "metadata": {},
   "source": [
    "#### Let's Put That Into a Pandas Dataframe."
   ]
  },
  {
   "cell_type": "markdown",
   "metadata": {},
   "source": [
    "First, let's write a function to sort the venues in descending order.\n"
   ]
  },
  {
   "cell_type": "code",
   "execution_count": 523,
   "metadata": {},
   "outputs": [],
   "source": [
    "def return_most_common_venues(row, num_top_venues):\n",
    "    row_categories = row.iloc[1:]\n",
    "    row_categories_sorted = row_categories.sort_values(ascending=False)\n",
    "    \n",
    "    return row_categories_sorted.index.values[0:num_top_venues]"
   ]
  },
  {
   "cell_type": "markdown",
   "metadata": {},
   "source": [
    "Now let's create the new dataframe and display the top 10 venues for each dam."
   ]
  },
  {
   "cell_type": "code",
   "execution_count": 524,
   "metadata": {},
   "outputs": [
    {
     "data": {
      "text/html": [
       "<div>\n",
       "<style scoped>\n",
       "    .dataframe tbody tr th:only-of-type {\n",
       "        vertical-align: middle;\n",
       "    }\n",
       "\n",
       "    .dataframe tbody tr th {\n",
       "        vertical-align: top;\n",
       "    }\n",
       "\n",
       "    .dataframe thead th {\n",
       "        text-align: right;\n",
       "    }\n",
       "</style>\n",
       "<table border=\"1\" class=\"dataframe\">\n",
       "  <thead>\n",
       "    <tr style=\"text-align: right;\">\n",
       "      <th></th>\n",
       "      <th>Dam</th>\n",
       "      <th>1st Most Common Venue</th>\n",
       "      <th>2nd Most Common Venue</th>\n",
       "      <th>3rd Most Common Venue</th>\n",
       "      <th>4th Most Common Venue</th>\n",
       "      <th>5th Most Common Venue</th>\n",
       "    </tr>\n",
       "  </thead>\n",
       "  <tbody>\n",
       "    <tr>\n",
       "      <th>0</th>\n",
       "      <td>Alibeykoy Dam</td>\n",
       "      <td>Forest</td>\n",
       "      <td>Paintball Field</td>\n",
       "      <td>Tea Room</td>\n",
       "      <td>Lake</td>\n",
       "      <td>Dog Run</td>\n",
       "    </tr>\n",
       "    <tr>\n",
       "      <th>1</th>\n",
       "      <td>Buyukcekmece Dam</td>\n",
       "      <td>Steakhouse</td>\n",
       "      <td>Lake</td>\n",
       "      <td>Whisky Bar</td>\n",
       "      <td>Burrito Place</td>\n",
       "      <td>Dog Run</td>\n",
       "    </tr>\n",
       "    <tr>\n",
       "      <th>2</th>\n",
       "      <td>Darlik Dam</td>\n",
       "      <td>Whisky Bar</td>\n",
       "      <td>Turkish Restaurant</td>\n",
       "      <td>Dessert Shop</td>\n",
       "      <td>Lake</td>\n",
       "      <td>Pub</td>\n",
       "    </tr>\n",
       "    <tr>\n",
       "      <th>3</th>\n",
       "      <td>Elmali Dam</td>\n",
       "      <td>Campground</td>\n",
       "      <td>Forest</td>\n",
       "      <td>Department Store</td>\n",
       "      <td>Garden</td>\n",
       "      <td>Plaza</td>\n",
       "    </tr>\n",
       "    <tr>\n",
       "      <th>4</th>\n",
       "      <td>Istranca Lakes</td>\n",
       "      <td>Lake</td>\n",
       "      <td>Convenience Store</td>\n",
       "      <td>Campground</td>\n",
       "      <td>Whisky Bar</td>\n",
       "      <td>Café</td>\n",
       "    </tr>\n",
       "    <tr>\n",
       "      <th>5</th>\n",
       "      <td>Kazandere</td>\n",
       "      <td>Lake</td>\n",
       "      <td>Botanical Garden</td>\n",
       "      <td>Forest</td>\n",
       "      <td>Whisky Bar</td>\n",
       "      <td>Campground</td>\n",
       "    </tr>\n",
       "    <tr>\n",
       "      <th>6</th>\n",
       "      <td>Omerli Dam</td>\n",
       "      <td>Café</td>\n",
       "      <td>Farm</td>\n",
       "      <td>Theme Park</td>\n",
       "      <td>Turkish Restaurant</td>\n",
       "      <td>Lake</td>\n",
       "    </tr>\n",
       "    <tr>\n",
       "      <th>7</th>\n",
       "      <td>Pabucdere River</td>\n",
       "      <td>Brewery</td>\n",
       "      <td>Beach</td>\n",
       "      <td>River</td>\n",
       "      <td>Mountain</td>\n",
       "      <td>Café</td>\n",
       "    </tr>\n",
       "    <tr>\n",
       "      <th>8</th>\n",
       "      <td>Sazlidere Dam</td>\n",
       "      <td>Lake</td>\n",
       "      <td>Scenic Lookout</td>\n",
       "      <td>Plaza</td>\n",
       "      <td>Whisky Bar</td>\n",
       "      <td>Burrito Place</td>\n",
       "    </tr>\n",
       "    <tr>\n",
       "      <th>9</th>\n",
       "      <td>Terkos Lake</td>\n",
       "      <td>Lake</td>\n",
       "      <td>Café</td>\n",
       "      <td>Turkish Restaurant</td>\n",
       "      <td>Forest</td>\n",
       "      <td>Comfort Food Restaurant</td>\n",
       "    </tr>\n",
       "  </tbody>\n",
       "</table>\n",
       "</div>"
      ],
      "text/plain": [
       "                Dam 1st Most Common Venue 2nd Most Common Venue  \\\n",
       "0     Alibeykoy Dam                Forest       Paintball Field   \n",
       "1  Buyukcekmece Dam            Steakhouse                  Lake   \n",
       "2        Darlik Dam            Whisky Bar    Turkish Restaurant   \n",
       "3        Elmali Dam            Campground                Forest   \n",
       "4    Istranca Lakes                  Lake     Convenience Store   \n",
       "5         Kazandere                  Lake      Botanical Garden   \n",
       "6        Omerli Dam                  Café                  Farm   \n",
       "7   Pabucdere River               Brewery                 Beach   \n",
       "8     Sazlidere Dam                  Lake        Scenic Lookout   \n",
       "9       Terkos Lake                  Lake                  Café   \n",
       "\n",
       "  3rd Most Common Venue 4th Most Common Venue    5th Most Common Venue  \n",
       "0              Tea Room                  Lake                  Dog Run  \n",
       "1            Whisky Bar         Burrito Place                  Dog Run  \n",
       "2          Dessert Shop                  Lake                      Pub  \n",
       "3      Department Store                Garden                    Plaza  \n",
       "4            Campground            Whisky Bar                     Café  \n",
       "5                Forest            Whisky Bar               Campground  \n",
       "6            Theme Park    Turkish Restaurant                     Lake  \n",
       "7                 River              Mountain                     Café  \n",
       "8                 Plaza            Whisky Bar            Burrito Place  \n",
       "9    Turkish Restaurant                Forest  Comfort Food Restaurant  "
      ]
     },
     "execution_count": 524,
     "metadata": {},
     "output_type": "execute_result"
    }
   ],
   "source": [
    "num_top_venues = 5\n",
    "\n",
    "indicators = ['st', 'nd', 'rd']\n",
    "\n",
    "# create columns according to number of top venues\n",
    "columns = ['Dam']\n",
    "for ind in np.arange(num_top_venues):\n",
    "    try:\n",
    "        columns.append('{}{} Most Common Venue'.format(ind+1, indicators[ind]))\n",
    "    except:\n",
    "        columns.append('{}th Most Common Venue'.format(ind+1))\n",
    "\n",
    "# create a new dataframe\n",
    "Dams_venues_sorted = pd.DataFrame(columns=columns)\n",
    "Dams_venues_sorted['Dam'] = istanbul_grouped['Dam']\n",
    "\n",
    "for ind in np.arange(istanbul_grouped.shape[0]):\n",
    "    Dams_venues_sorted.iloc[ind, 1:] = return_most_common_venues(istanbul_grouped.iloc[ind, :], num_top_venues)\n",
    "\n",
    "Dams_venues_sorted.head(10)"
   ]
  },
  {
   "cell_type": "markdown",
   "metadata": {},
   "source": [
    "### *Mission Successfully Completed! We Detected Lake or River Record within 1.2 Km of the Coordinates We Received from the Database. Now is the time to integrate our fresh water resources on a map according to their size.*"
   ]
  },
  {
   "cell_type": "markdown",
   "metadata": {},
   "source": [
    "#### We Can Create A Map Of Istanbul With Dams Superimposed On Top. We use latitude and longitude values to get the visual. Also, Visualize The Water Resources By Creating Circles According To Their Total Volume."
   ]
  },
  {
   "cell_type": "code",
   "execution_count": 525,
   "metadata": {},
   "outputs": [
    {
     "name": "stdout",
     "output_type": "stream",
     "text": [
      "10\n"
     ]
    },
    {
     "data": {
      "text/html": [
       "<div style=\"width:100%;\"><div style=\"position:relative;width:100%;height:0;padding-bottom:60%;\"><span style=\"color:#565656\">Make this Notebook Trusted to load map: File -> Trust Notebook</span><iframe src=\"about:blank\" style=\"position:absolute;width:100%;height:100%;left:0;top:0;border:none !important;\" data-html=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 onload=\"this.contentDocument.open();this.contentDocument.write(atob(this.getAttribute('data-html')));this.contentDocument.close();\" allowfullscreen webkitallowfullscreen mozallowfullscreen></iframe></div></div>"
      ],
      "text/plain": [
       "<folium.folium.Map at 0x19585c1c978>"
      ]
     },
     "execution_count": 525,
     "metadata": {},
     "output_type": "execute_result"
    }
   ],
   "source": [
    "map_istanbul = folium.Map(location=[latitude, longitude], tiles=\"Stamen Terrain\", zoom_start=9.4)\n",
    "\n",
    "print(len(istanbul_data))\n",
    "# add markers to map\n",
    "for lat, lng, Dam in zip(df['Latitude'], df['Longitude'], df['Dam']):\n",
    "    label = '{}'.format(Dam)\n",
    "    label = folium.Popup(label, parse_html=True)\n",
    "    \n",
    "for i in range(0,len(istanbul_data)):\n",
    "        folium.CircleMarker(\n",
    "        location=[istanbul_data.iloc[i]['Latitude'], istanbul_data.iloc[i]['Longitude']],\n",
    "        radius=istanbul_data.iloc[i]['TotalCapacity']*0.6,\n",
    "        popup=istanbul_data.iloc[i]['Dam'],\n",
    "        color='blue',\n",
    "        fill=True,\n",
    "        fill_color='#3186cc',\n",
    "        fill_opacity=0.7).add_to(map_istanbul)  \n",
    "    \n",
    "map_istanbul"
   ]
  },
  {
   "cell_type": "markdown",
   "metadata": {},
   "source": [
    "#### **B.4. Istanbul's Water Crisis Prediction**"
   ]
  },
  {
   "cell_type": "markdown",
   "metadata": {},
   "source": [
    "After determining the location of our dams, it was time to estimate the thirst.\n",
    "\n",
    "For this, I will use the data provided by the Istanbul municipality.\n",
    "These are basically \"Dam Occupancy Rates Of The Last 6 Years For December.21.202X\", \"Total Annual Rain\", \"Annual Amount of Water Pumped from Surrounding Provinces\" and Finally, \"Annual Consumption\". I will calculate the balance of the water coming out.\n",
    "\n",
    "Then I will try to establish a proportion between the \"Net Water Balance\" in the City and the 1-year change percentages of the dams."
   ]
  },
  {
   "cell_type": "markdown",
   "metadata": {},
   "source": [
    "*Small Reminders*\n",
    "\n",
    "* **TotalChangeOneYear** = [Percent Of This Year] - [Percent Of Last Year]  *Istanbul Municipality gives occupancy rates for the same day.*\n",
    "* **PumpWater** = *The total water provided to the city by the 2 pump systems established by the Municipality to meet the water requirement*\n",
    "* **TotalAmountofWaterGivenDuringtheYear** = Total amount of water provided for all services(individual, corporate) throughout the year according to official figures\n",
    "* **TotalInput** = [PumpWater] + [TotalAnnualRain]  *Total amount of fresh water coming to the city by pumps and precipitation, official records.*\n",
    "\n",
    "* **Net** = [TotalInput] - [TotalAmountofWaterGivenDuringtheYear]\n",
    "\n",
    "*All water values have been found by dividing 10 million cubic meters. Data standardization has thus been achieved.*"
   ]
  },
  {
   "cell_type": "code",
   "execution_count": 540,
   "metadata": {},
   "outputs": [
    {
     "data": {
      "text/html": [
       "<div>\n",
       "<style scoped>\n",
       "    .dataframe tbody tr th:only-of-type {\n",
       "        vertical-align: middle;\n",
       "    }\n",
       "\n",
       "    .dataframe tbody tr th {\n",
       "        vertical-align: top;\n",
       "    }\n",
       "\n",
       "    .dataframe thead th {\n",
       "        text-align: right;\n",
       "    }\n",
       "</style>\n",
       "<table border=\"1\" class=\"dataframe\">\n",
       "  <thead>\n",
       "    <tr style=\"text-align: right;\">\n",
       "      <th></th>\n",
       "      <th>Year</th>\n",
       "      <th>Percentage</th>\n",
       "      <th>TotalAnnualRain</th>\n",
       "      <th>TotalChangeOneYear</th>\n",
       "      <th>TotalAmountofWaterGivenDuringtheYear</th>\n",
       "      <th>PumpWater</th>\n",
       "      <th>TotalInput</th>\n",
       "      <th>Net</th>\n",
       "    </tr>\n",
       "  </thead>\n",
       "  <tbody>\n",
       "    <tr>\n",
       "      <th>0</th>\n",
       "      <td>21.12.2014</td>\n",
       "      <td>53.88</td>\n",
       "      <td>82.63</td>\n",
       "      <td>15.80</td>\n",
       "      <td>92.44</td>\n",
       "      <td>47.04</td>\n",
       "      <td>129.67</td>\n",
       "      <td>37.23</td>\n",
       "    </tr>\n",
       "    <tr>\n",
       "      <th>1</th>\n",
       "      <td>21.12.2015</td>\n",
       "      <td>60.24</td>\n",
       "      <td>87.24</td>\n",
       "      <td>6.36</td>\n",
       "      <td>96.51</td>\n",
       "      <td>18.58</td>\n",
       "      <td>105.82</td>\n",
       "      <td>9.31</td>\n",
       "    </tr>\n",
       "    <tr>\n",
       "      <th>2</th>\n",
       "      <td>21.12.2016</td>\n",
       "      <td>38.85</td>\n",
       "      <td>77.81</td>\n",
       "      <td>-21.39</td>\n",
       "      <td>99.86</td>\n",
       "      <td>31.09</td>\n",
       "      <td>108.90</td>\n",
       "      <td>9.04</td>\n",
       "    </tr>\n",
       "    <tr>\n",
       "      <th>3</th>\n",
       "      <td>21.12.2017</td>\n",
       "      <td>58.17</td>\n",
       "      <td>92.23</td>\n",
       "      <td>19.32</td>\n",
       "      <td>102.96</td>\n",
       "      <td>33.96</td>\n",
       "      <td>125.19</td>\n",
       "      <td>22.23</td>\n",
       "    </tr>\n",
       "    <tr>\n",
       "      <th>4</th>\n",
       "      <td>21.12.2018</td>\n",
       "      <td>77.29</td>\n",
       "      <td>95.74</td>\n",
       "      <td>19.12</td>\n",
       "      <td>104.09</td>\n",
       "      <td>37.97</td>\n",
       "      <td>133.71</td>\n",
       "      <td>29.62</td>\n",
       "    </tr>\n",
       "    <tr>\n",
       "      <th>5</th>\n",
       "      <td>21.12.2019</td>\n",
       "      <td>33.97</td>\n",
       "      <td>55.87</td>\n",
       "      <td>-43.32</td>\n",
       "      <td>106.17</td>\n",
       "      <td>31.19</td>\n",
       "      <td>87.06</td>\n",
       "      <td>-19.11</td>\n",
       "    </tr>\n",
       "    <tr>\n",
       "      <th>6</th>\n",
       "      <td>21.12.2020</td>\n",
       "      <td>21.70</td>\n",
       "      <td>52.09</td>\n",
       "      <td>-12.27</td>\n",
       "      <td>102.90</td>\n",
       "      <td>47.77</td>\n",
       "      <td>100.56</td>\n",
       "      <td>-2.34</td>\n",
       "    </tr>\n",
       "  </tbody>\n",
       "</table>\n",
       "</div>"
      ],
      "text/plain": [
       "         Year  Percentage  TotalAnnualRain  TotalChangeOneYear  \\\n",
       "0  21.12.2014       53.88            82.63               15.80   \n",
       "1  21.12.2015       60.24            87.24                6.36   \n",
       "2  21.12.2016       38.85            77.81              -21.39   \n",
       "3  21.12.2017       58.17            92.23               19.32   \n",
       "4  21.12.2018       77.29            95.74               19.12   \n",
       "5  21.12.2019       33.97            55.87              -43.32   \n",
       "6  21.12.2020       21.70            52.09              -12.27   \n",
       "\n",
       "   TotalAmountofWaterGivenDuringtheYear  PumpWater  TotalInput    Net  \n",
       "0                                 92.44      47.04      129.67  37.23  \n",
       "1                                 96.51      18.58      105.82   9.31  \n",
       "2                                 99.86      31.09      108.90   9.04  \n",
       "3                                102.96      33.96      125.19  22.23  \n",
       "4                                104.09      37.97      133.71  29.62  \n",
       "5                                106.17      31.19       87.06 -19.11  \n",
       "6                                102.90      47.77      100.56  -2.34  "
      ]
     },
     "execution_count": 540,
     "metadata": {},
     "output_type": "execute_result"
    }
   ],
   "source": [
    "import matplotlib.pyplot as plt #For Graphics\n",
    "\n",
    "url = 'https://raw.githubusercontent.com/Trmerlin/Istanbul-Water-Crisis-Detection-Project/main/FullnesRatioOfDams.cvs'\n",
    "df = pd.read_csv(url)\n",
    "\n",
    "df.head(7)"
   ]
  },
  {
   "cell_type": "markdown",
   "metadata": {},
   "source": [
    "First of all, by visualizing the primary data we have, try to find the best algorithm we should use."
   ]
  },
  {
   "cell_type": "code",
   "execution_count": 542,
   "metadata": {},
   "outputs": [
    {
     "data": {
      "text/plain": [
       "<matplotlib.axes._subplots.AxesSubplot at 0x195802f9240>"
      ]
     },
     "execution_count": 542,
     "metadata": {},
     "output_type": "execute_result"
    },
    {
     "data": {
      "image/png": "[encoded data removed]",
      "text/plain": [
       "<Figure size 640x480 with 1 Axes>"
      ]
     },
     "metadata": {},
     "output_type": "display_data"
    }
   ],
   "source": [
    "ax = plt.gca()\n",
    "\n",
    "df.plot(kind='bar',x='Year',y='TotalChangeOneYear',color='green', ax=ax)\n",
    "df.plot(kind='line',x='Year',y='TotalAnnualRain', color='yellow', ax=ax)\n",
    "df.plot(kind='line',x='Year',y='TotalInput', color='blue', ax=ax)\n",
    "df.plot(kind='line',x='Year',y='PumpWater', color='pink', ax=ax)\n",
    "df.plot(kind='line',x='Year',y='TotalAmountofWaterGivenDuringtheYear', color='red', ax=ax)"
   ]
  },
  {
   "cell_type": "markdown",
   "metadata": {},
   "source": [
    "#### Let's simplify our data frame."
   ]
  },
  {
   "cell_type": "code",
   "execution_count": 545,
   "metadata": {},
   "outputs": [
    {
     "data": {
      "text/html": [
       "<div>\n",
       "<style scoped>\n",
       "    .dataframe tbody tr th:only-of-type {\n",
       "        vertical-align: middle;\n",
       "    }\n",
       "\n",
       "    .dataframe tbody tr th {\n",
       "        vertical-align: top;\n",
       "    }\n",
       "\n",
       "    .dataframe thead th {\n",
       "        text-align: right;\n",
       "    }\n",
       "</style>\n",
       "<table border=\"1\" class=\"dataframe\">\n",
       "  <thead>\n",
       "    <tr style=\"text-align: right;\">\n",
       "      <th></th>\n",
       "      <th>TotalChangeOneYear</th>\n",
       "      <th>TotalAmountofWaterGivenDuringtheYear</th>\n",
       "      <th>TotalAnnualRain</th>\n",
       "      <th>PumpWater</th>\n",
       "      <th>TotalInput</th>\n",
       "      <th>Net</th>\n",
       "    </tr>\n",
       "  </thead>\n",
       "  <tbody>\n",
       "    <tr>\n",
       "      <th>0</th>\n",
       "      <td>15.80</td>\n",
       "      <td>92.44</td>\n",
       "      <td>82.63</td>\n",
       "      <td>47.04</td>\n",
       "      <td>129.67</td>\n",
       "      <td>37.23</td>\n",
       "    </tr>\n",
       "    <tr>\n",
       "      <th>1</th>\n",
       "      <td>6.36</td>\n",
       "      <td>96.51</td>\n",
       "      <td>87.24</td>\n",
       "      <td>18.58</td>\n",
       "      <td>105.82</td>\n",
       "      <td>9.31</td>\n",
       "    </tr>\n",
       "    <tr>\n",
       "      <th>2</th>\n",
       "      <td>-21.39</td>\n",
       "      <td>99.86</td>\n",
       "      <td>77.81</td>\n",
       "      <td>31.09</td>\n",
       "      <td>108.90</td>\n",
       "      <td>9.04</td>\n",
       "    </tr>\n",
       "    <tr>\n",
       "      <th>3</th>\n",
       "      <td>19.32</td>\n",
       "      <td>102.96</td>\n",
       "      <td>92.23</td>\n",
       "      <td>33.96</td>\n",
       "      <td>125.19</td>\n",
       "      <td>22.23</td>\n",
       "    </tr>\n",
       "    <tr>\n",
       "      <th>4</th>\n",
       "      <td>19.12</td>\n",
       "      <td>104.09</td>\n",
       "      <td>95.74</td>\n",
       "      <td>37.97</td>\n",
       "      <td>133.71</td>\n",
       "      <td>29.62</td>\n",
       "    </tr>\n",
       "    <tr>\n",
       "      <th>5</th>\n",
       "      <td>-43.32</td>\n",
       "      <td>106.17</td>\n",
       "      <td>55.87</td>\n",
       "      <td>31.19</td>\n",
       "      <td>87.06</td>\n",
       "      <td>-19.11</td>\n",
       "    </tr>\n",
       "    <tr>\n",
       "      <th>6</th>\n",
       "      <td>-12.27</td>\n",
       "      <td>102.90</td>\n",
       "      <td>52.09</td>\n",
       "      <td>47.77</td>\n",
       "      <td>100.56</td>\n",
       "      <td>-2.34</td>\n",
       "    </tr>\n",
       "  </tbody>\n",
       "</table>\n",
       "</div>"
      ],
      "text/plain": [
       "   TotalChangeOneYear  TotalAmountofWaterGivenDuringtheYear  TotalAnnualRain  \\\n",
       "0               15.80                                 92.44            82.63   \n",
       "1                6.36                                 96.51            87.24   \n",
       "2              -21.39                                 99.86            77.81   \n",
       "3               19.32                                102.96            92.23   \n",
       "4               19.12                                104.09            95.74   \n",
       "5              -43.32                                106.17            55.87   \n",
       "6              -12.27                                102.90            52.09   \n",
       "\n",
       "   PumpWater  TotalInput    Net  \n",
       "0      47.04      129.67  37.23  \n",
       "1      18.58      105.82   9.31  \n",
       "2      31.09      108.90   9.04  \n",
       "3      33.96      125.19  22.23  \n",
       "4      37.97      133.71  29.62  \n",
       "5      31.19       87.06 -19.11  \n",
       "6      47.77      100.56  -2.34  "
      ]
     },
     "execution_count": 545,
     "metadata": {},
     "output_type": "execute_result"
    }
   ],
   "source": [
    "import numpy as np\n",
    "import matplotlib.pyplot as plt\n",
    "import pandas as pd\n",
    "import os\n",
    "import pylab as pl\n",
    "from sklearn.linear_model import LinearRegression\n",
    "from sklearn.model_selection import train_test_split\n",
    "%matplotlib inline\n",
    "\n",
    "cdf = df[['TotalChangeOneYear','TotalAmountofWaterGivenDuringtheYear','TotalAnnualRain','PumpWater', 'TotalInput','Net']]\n",
    "cdf.head(9)\n"
   ]
  },
  {
   "cell_type": "code",
   "execution_count": 547,
   "metadata": {},
   "outputs": [
    {
     "data": {
      "image/png": "[encoded data removed]",
      "text/plain": [
       "<Figure size 432x288 with 1 Axes>"
      ]
     },
     "metadata": {
      "needs_background": "light"
     },
     "output_type": "display_data"
    }
   ],
   "source": [
    "plt.scatter(cdf.TotalAnnualRain, cdf.TotalChangeOneYear,  color='blue')\n",
    "plt.xlabel(\"Annual Rain\")\n",
    "plt.ylabel(\"Total Change One Year Dam Percantange\")\n",
    "plt.show()"
   ]
  },
  {
   "cell_type": "markdown",
   "metadata": {},
   "source": [
    "While the annual rainfall should be proportional to the dam percentage, some irregularities strike us. Of course, the reasons for this may be the water pumped from the surrounding provinces, low consumption or the factors that we cannot control."
   ]
  },
  {
   "cell_type": "markdown",
   "metadata": {},
   "source": [
    "**It would be best to build this algorithm on the city's net water balance for 1 year and the percentage change in the 1-year dams.**"
   ]
  },
  {
   "cell_type": "code",
   "execution_count": 549,
   "metadata": {},
   "outputs": [
    {
     "data": {
      "image/png": "[encoded data removed]",
      "text/plain": [
       "<Figure size 432x288 with 1 Axes>"
      ]
     },
     "metadata": {
      "needs_background": "light"
     },
     "output_type": "display_data"
    }
   ],
   "source": [
    "plt.scatter(cdf.Net, cdf.TotalChangeOneYear,  color='red')\n",
    "plt.xlabel(\"Net\")\n",
    "plt.ylabel(\"Total Change One Year Dam Percantange\")\n",
    "plt.show()"
   ]
  },
  {
   "cell_type": "markdown",
   "metadata": {},
   "source": [
    "There are two main problems with the chart.\n",
    "\n",
    "* The first is an outlier in 2016(Net+10): A mistake in the official figures may be due to malfunctions, losses or factors that we cannot calculate. So I'm going to take out 2016 while I'm designing artificial intelligence.\n",
    "\n",
    "* The second important problem is the slowdown in dam occupancy rates when the net water inflow to the city exceeds 30. This again can be related to various problems. Maybe it's an annual thing.\n",
    "\n",
    "* But the most logical theory that comes to mind may be that more water ingress than the dams of the city can store makes no sense. Yes, water is coming, but it cannot be stored. Of course, there may be unfamiliar factors and errors in my measurement. However, this is not a big outlier. The net water inflow has rarely exceeded 30 in the last 20 years. It does not prevent our algorithm working."
   ]
  },
  {
   "cell_type": "markdown",
   "metadata": {},
   "source": [
    "*Cleaning outlier:*"
   ]
  },
  {
   "cell_type": "markdown",
   "metadata": {},
   "source": [
    "*Let's get 2016 out of the data.Then lets create a new dataframe that contains the two parameters with which I found directly correlate.*"
   ]
  },
  {
   "cell_type": "code",
   "execution_count": 551,
   "metadata": {},
   "outputs": [
    {
     "data": {
      "text/html": [
       "<div>\n",
       "<style scoped>\n",
       "    .dataframe tbody tr th:only-of-type {\n",
       "        vertical-align: middle;\n",
       "    }\n",
       "\n",
       "    .dataframe tbody tr th {\n",
       "        vertical-align: top;\n",
       "    }\n",
       "\n",
       "    .dataframe thead th {\n",
       "        text-align: right;\n",
       "    }\n",
       "</style>\n",
       "<table border=\"1\" class=\"dataframe\">\n",
       "  <thead>\n",
       "    <tr style=\"text-align: right;\">\n",
       "      <th></th>\n",
       "      <th>Net</th>\n",
       "      <th>TotalChangeOneYear</th>\n",
       "    </tr>\n",
       "  </thead>\n",
       "  <tbody>\n",
       "    <tr>\n",
       "      <th>0</th>\n",
       "      <td>37.23</td>\n",
       "      <td>15.80</td>\n",
       "    </tr>\n",
       "    <tr>\n",
       "      <th>1</th>\n",
       "      <td>9.31</td>\n",
       "      <td>6.36</td>\n",
       "    </tr>\n",
       "    <tr>\n",
       "      <th>3</th>\n",
       "      <td>22.23</td>\n",
       "      <td>19.32</td>\n",
       "    </tr>\n",
       "    <tr>\n",
       "      <th>4</th>\n",
       "      <td>29.62</td>\n",
       "      <td>19.12</td>\n",
       "    </tr>\n",
       "    <tr>\n",
       "      <th>5</th>\n",
       "      <td>-19.11</td>\n",
       "      <td>-43.32</td>\n",
       "    </tr>\n",
       "    <tr>\n",
       "      <th>6</th>\n",
       "      <td>-2.34</td>\n",
       "      <td>-12.27</td>\n",
       "    </tr>\n",
       "  </tbody>\n",
       "</table>\n",
       "</div>"
      ],
      "text/plain": [
       "     Net  TotalChangeOneYear\n",
       "0  37.23               15.80\n",
       "1   9.31                6.36\n",
       "3  22.23               19.32\n",
       "4  29.62               19.12\n",
       "5 -19.11              -43.32\n",
       "6  -2.34              -12.27"
      ]
     },
     "execution_count": 551,
     "metadata": {},
     "output_type": "execute_result"
    }
   ],
   "source": [
    "ndf = cdf.drop([2])\n",
    "zdf = ndf[['Net','TotalChangeOneYear']]\n",
    "zdf.head(9)"
   ]
  },
  {
   "cell_type": "markdown",
   "metadata": {},
   "source": [
    "#### **B.5. Use Of `Supervised Neural Network Models` - `Multi-layer Perceptron` For Predictions**"
   ]
  },
  {
   "cell_type": "markdown",
   "metadata": {},
   "source": [
    "I will be honest. I had a hard time finding the algorithm that could most accurately cover and predict the relevant data.\n",
    "\n",
    "It was obvious that Linear-Regression was not going to work. Because when there are more than 30 net water inflows, our dam percentage does not increase proportionally. There are also deviations in the data.\n",
    "\n",
    "I tried logorithmic and sigmoid functions in non-linear regression. However, when the net water intake was negative, none of them could provide the arithmetic decrease.\n",
    "\n",
    "Then I used Multi-layer Perceptron, a simple neural network application. I have tried various test - train ratios. This algorithm provided the most accurate results.\n",
    "\n",
    "*Don't worry, I'll prove it with a graph.*"
   ]
  },
  {
   "cell_type": "code",
   "execution_count": 574,
   "metadata": {},
   "outputs": [
    {
     "data": {
      "text/plain": [
       "MLPRegressor(activation='relu', alpha=0.0001, batch_size='auto', beta_1=0.9,\n",
       "             beta_2=0.999, early_stopping=False, epsilon=1e-08,\n",
       "             hidden_layer_sizes=(10000, 100), learning_rate='constant',\n",
       "             learning_rate_init=0.001, max_fun=15000, max_iter=10000,\n",
       "             momentum=0.9, n_iter_no_change=10, nesterovs_momentum=True,\n",
       "             power_t=0.5, random_state=None, shuffle=True, solver='adam',\n",
       "             tol=0.0001, validation_fraction=0.1, verbose=False,\n",
       "             warm_start=False)"
      ]
     },
     "execution_count": 574,
     "metadata": {},
     "output_type": "execute_result"
    }
   ],
   "source": [
    "from sklearn.model_selection import train_test_split \n",
    "from sklearn.preprocessing import StandardScaler  \n",
    "from sklearn.neural_network import MLPRegressor #I Love This Regressor. MLP\n",
    "from sklearn.datasets import make_regression\n",
    "\n",
    "\n",
    "X = zdf.iloc[:, 0:1] #Select Column 1\n",
    "y = zdf.iloc[:, 1] #Select Column 2\n",
    "\n",
    "X_train, X_test, y_train, y_test = train_test_split(X, y, test_size = 0.20) #Good rate for prevent overfitting.\n",
    "\n",
    "X=X.astype('int')\n",
    "y=y.astype('int')\n",
    "\n",
    "\n",
    "clf = MLPRegressor(hidden_layer_sizes=(10000,100) , max_iter=10000, early_stopping=False) #I found the best settings with a little tweaking\n",
    "clf.fit(X_train, y_train)"
   ]
  },
  {
   "cell_type": "code",
   "execution_count": 575,
   "metadata": {},
   "outputs": [
    {
     "name": "stdout",
     "output_type": "stream",
     "text": [
      "     Net   Predicte\n",
      "0 -19.11 -43.320514\n",
      "1  -2.34 -12.247233\n",
      "2   9.31   6.397171\n",
      "3  22.23  14.493680\n",
      "4  29.62  19.105227\n",
      "5  37.23  23.854976\n"
     ]
    }
   ],
   "source": [
    "test = zdf[['Net']]\n",
    "netdf = pd.DataFrame(test, columns=['Net'])\n",
    "\n",
    "predictions = clf.predict(test)\n",
    "df2 = pd.DataFrame(predictions, columns=['Predicte'])\n",
    "\n",
    "\n",
    "netdf.reset_index(drop=True, inplace=True)\n",
    "df2.reset_index(drop=True, inplace=True)\n",
    "\n",
    "result = pd.concat([netdf, df2],  axis=1)\n",
    "print(result)\n"
   ]
  },
  {
   "cell_type": "code",
   "execution_count": 576,
   "metadata": {},
   "outputs": [
    {
     "data": {
      "text/plain": [
       "<matplotlib.axes._subplots.AxesSubplot at 0x195900687f0>"
      ]
     },
     "execution_count": 576,
     "metadata": {},
     "output_type": "execute_result"
    },
    {
     "data": {
      "image/png": "[encoded data removed]",
      "text/plain": [
       "<Figure size 432x288 with 1 Axes>"
      ]
     },
     "metadata": {
      "needs_background": "light"
     },
     "output_type": "display_data"
    }
   ],
   "source": [
    "result = result.sort_values(by=['Net'])\n",
    "zdf = zdf.sort_values(by=['Net'])\n",
    "ax = plt.gca()\n",
    "\n",
    "result.plot(kind='line',x='Net',y='Predicte',ax=ax)\n",
    "zdf.plot(kind='line',x='Net',y='TotalChangeOneYear',color='green', ax=ax)"
   ]
  },
  {
   "cell_type": "markdown",
   "metadata": {},
   "source": [
    "In this `graph`, We can see that 2 data were taken for the test of the algorithm. However, we can still see that he made very small estimates `with ~ 5 errors` for those values. If he had taken the last data for education, it would decrease the percentage change as the amount of water increased. This is like an impossible thing in real life. Yes, the dams can reach the saturation point, but they do not fall to negative just because there is too much rain. So this version of the Algorithm is pretty good. Anyway, a total net water inflow of 30 - 40 above is not possible under these conditions.\n",
    "\n",
    "When the `Net Water balance drops to negative`, the algorithm gives `excellent results` even with 3 training sets. We can say that he is an expert estimator about the rate of `water decrease`. So let's use this model to `predict the water problem of Istanbul`."
   ]
  },
  {
   "cell_type": "code",
   "execution_count": 584,
   "metadata": {},
   "outputs": [
    {
     "name": "stdout",
     "output_type": "stream",
     "text": [
      "Occupancy rate of Istanbul dams as of 21.12.2020: 21.66\n",
      "If our net water balance is 0 next year, our Dam occupancy rate on 21.12.2021: [14.27300521]\n",
      "If the next year will pass exactly like this year , our Dam occupancy rate on 21.12.2021: [9.41276697]\n",
      "If we can achieve water balance as in 2014, the rainiest time of the last 6 years, our Dam occupancy rate on 21.12.2021: [45.99567619]\n",
      "If we can achieve water balance as in 2010, the rainiest time of the last 10 years, our Dam occupancy rate as of 21.12.2021: [52.240123]\n",
      "If so much water consumption and low rainfall like in 2019  `the worst water balance of the last 10 years`,  our Dam occupancy rates as of 21.20.2021: [-21.45358778]\n",
      "If the next year will pass exactly like this year , but if everyone saves 10% water, our Dam occupancy rate on 21.12.2021: [27.10021104]\n"
     ]
    }
   ],
   "source": [
    "NowDam = 21.66 #Total Occupancy Rate of Istanbul Dams as of -21.12.2020- Source:Istanbul Buyuksehir Municipality\n",
    "\n",
    "print(\"Occupancy rate of Istanbul dams as of 21.12.2020: \" + str(NowDam))\n",
    "print(\"If our net water balance is 0 next year, our Dam occupancy rate on 21.12.2021: \" + str(NowDam + clf.predict([[0]])) ) #NetWater Not Ise\n",
    "print(\"If the next year will pass exactly like this year , our Dam occupancy rate on 21.12.2021: \" +str(NowDam + clf.predict([[-2.34]])) ) #NetWater Bu yilki Kadar Gelgit Dengemiz Olursa\n",
    "print(\"If we can achieve water balance as in 2014, the rainiest time of the last 6 years, our Dam occupancy rate on 21.12.2021: \" + str(NowDam + clf.predict([[38]])) ) #NetWater Eger Son 5 Yilin En iyi Yagis Istatistigini 2021de Yakalarsak\n",
    "print(\"If we can achieve water balance as in 2010, the rainiest time of the last 10 years, our Dam occupancy rate as of 21.12.2021: \" + str(NowDam + clf.predict([[48]])) ) #NetWater Son 10 Yilin en Yagisi Saglanirsa\n",
    "print(\"If so much water consumption and low rainfall like in 2019  `the worst water balance of the last 10 years`,  our Dam occupancy rates as of 21.20.2021: \" + str(NowDam + clf.predict([[-19]])) ) #NetWater Eger 2019 Yilindaki gibi bir sonraki yilda cok eksiye duserse\n",
    "\n",
    "print(\"If the next year will pass exactly like this year , but if everyone saves 10% water, our Dam occupancy rate on 21.12.2021: \" +str(NowDam + clf.predict([[7.88]])) ) # 102.90*9/10 = 92.61  ---  102.9-92.61= 10.20 --- -2.32+10.20 = 7.88"
   ]
  },
  {
   "cell_type": "markdown",
   "metadata": {},
   "source": [
    "## **D. Discussion**\n",
    "----\n",
    "At the beginning of my study, I checked with the foursquare api the dam coordinates. The results were pretty accurate. Only one dam was marked as \"Campground\" instead of \"Lake\". Then I visualized the related water resources on the map.\n",
    "\n",
    "In the second part of my study, I established a link between the annual amount of net water entering the city and the annual dam occupancy rate change. Classical regression was somewhat inadequate in this regard. Because dams have a saturation point. However, I found very close results in test data with MLP.\n",
    "\n",
    "However, this is a project prepared in a short time. For example, water leaks in a municipality can deviate 20% of the total water use. Let's even think a little deeper. How many days are sunny in a year can affect the amount of evaporation. Undoubtedly, this will affect the annual percentage change.\n",
    "\n",
    "In addition, the majority of water use is made by agricultural lands. (Approximately 50 percent of water consumption in Istanbul). In this case, other factors such as the water need of the planted plants, soil yield, number of snowy days may affect the net water balance.\n",
    "\n",
    "However, I still managed to forecast on an annual basis with the city's net water balance.\n",
    "\n",
    "Maybe we cannot affect the annual rainfall directly. However, water consumption may affect the net water balance shifting to a large positive.\n",
    "\n",
    "In the last part of the study, I made a presentation to raise public awareness. Let's say there is as much rain in 2021 as in 2020 and water intake from the surrounding provinces. However, everybody use their water 10% sparingly throughout 2021. In this case, the total water consumption will decrease by 1/10. This leads to an increase of 10.20 in the net water balance. In 2020, the net water balance was -2.34. With 10% reduced water consumption our net water balance for 2021 would be +7.88. In this case, we will see that our dams are  27% in 21.12.2021 . Who wouldn't want their dams to be full!"
   ]
  },
  {
   "cell_type": "markdown",
   "metadata": {},
   "source": [
    "## **F. Conclusion**\n",
    "----\n",
    "\n",
    "As a result, data science helps us at many points in everyday life. For example, even visualizing the dam data we collect from the internet can make people aware that \"my water comes from here, they are not too big, I should have been careful\".\n",
    "\n",
    "In addition, according to the estimates we have calculated with MLP, the occupancy rate of our dams can increase by 13% if each person consumes 10% less water, while remaining the same. For exactly this reason, we must use our water very carefully. It is wrong to say that nothing will happen with my consumption. Algorithms have proven this.\n",
    "\n",
    "Global warming and climate change forces us to use our water resources more rationally. Detailed usage details can be obtained with data science projects. Even, the leak water in the city can be detected and where dam investments can be evaluated."
   ]
  },
  {
   "cell_type": "markdown",
   "metadata": {},
   "source": [
    "## **G. References:**\n",
    "\n",
    "* [1] [Istanbul - Britannica](https://www.britannica.com/place/Istanbul)\n",
    "* [2] [Istanbul Water Department Official Site](https://www.iski.istanbul/web)\n",
    "* [3] [Forsquare API](https://developer.foursquare.com/)\n",
    "* [4] [Istanbul Dam Occupancy Rates](https://data.ibb.gov.tr/en/)\n",
    "* [5] [Google Map](https://www.google.com/maps/)\n",
    "* [6] [Falling Water Level In Istanbul Dams Increases Risk Of Disease](https://www.hurriyetdailynews.com/falling-water-level-in-istanbul-dams-increases-risk-of-disease-159762)\n",
    "\n",
    "\n"
   ]
  }
 ],
 "metadata": {
  "kernelspec": {
   "display_name": "Python 3",
   "language": "python",
   "name": "python3"
  },
  "language_info": {
   "codemirror_mode": {
    "name": "ipython",
    "version": 3
   },
   "file_extension": ".py",
   "mimetype": "text/x-python",
   "name": "python",
   "nbconvert_exporter": "python",
   "pygments_lexer": "ipython3",
   "version": "3.5.0"
  }
 },
 "nbformat": 4,
 "nbformat_minor": 4
}
